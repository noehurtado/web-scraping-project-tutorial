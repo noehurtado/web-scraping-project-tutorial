{
 "cells": [
  {
   "cell_type": "markdown",
   "metadata": {},
   "source": [
    "# Explora aquí\n",
    "\n",
    "Se recomienda utilizar este cuaderno con fines de exploración."
   ]
  },
  {
   "cell_type": "code",
   "execution_count": 107,
   "metadata": {},
   "outputs": [],
   "source": [
    "import os\n",
    "from bs4 import BeautifulSoup\n",
    "import requests\n",
    "import time\n",
    "import sqlite3\n",
    "import matplotlib.pyplot as plt\n",
    "import seaborn as sns\n",
    "import pandas as pd"
   ]
  },
  {
   "cell_type": "code",
   "execution_count": 179,
   "metadata": {},
   "outputs": [],
   "source": [
    "# Download HTML \n",
    "url = 'https://ycharts.com/companies/TSLA/revenues'\n",
    "headers = {\n",
    "    'User-Agent': 'Mozilla/5.0 (Windows NT 10.0; Win64; x64) AppleWebKit/537.36 (KHTML, like Gecko) Chrome/58.0.3029.110 Safari/537.3'}\n",
    "\n",
    "response = requests.get(url, headers=headers)\n",
    "\n",
    "if response.status_code == 200:\n",
    "    soup = BeautifulSoup(response.text, 'html.parser')\n",
    "\n",
    "# Filtering HTML by tag name \n",
    "tesla_data = soup.find_all('td')\n",
    "\n",
    "# Creating a clean list with dates and revenue values\n",
    "tesla_qrev = [data.text.strip() for data in tesla_data]\n",
    "\n",
    "# Separting the previous list and creating a df \n",
    "date, rev = tesla_qrev[::2], tesla_qrev[1::2]\n",
    "tesla_rev = pd.DataFrame({\n",
    "    'date': date,\n",
    "    'rev': rev\n",
    "})"
   ]
  },
  {
   "cell_type": "code",
   "execution_count": 245,
   "metadata": {},
   "outputs": [
    {
     "data": {
      "text/html": [
       "<div>\n",
       "<style scoped>\n",
       "    .dataframe tbody tr th:only-of-type {\n",
       "        vertical-align: middle;\n",
       "    }\n",
       "\n",
       "    .dataframe tbody tr th {\n",
       "        vertical-align: top;\n",
       "    }\n",
       "\n",
       "    .dataframe thead th {\n",
       "        text-align: right;\n",
       "    }\n",
       "</style>\n",
       "<table border=\"1\" class=\"dataframe\">\n",
       "  <thead>\n",
       "    <tr style=\"text-align: right;\">\n",
       "      <th></th>\n",
       "      <th>date</th>\n",
       "      <th>rev</th>\n",
       "      <th>full_rev</th>\n",
       "    </tr>\n",
       "  </thead>\n",
       "  <tbody>\n",
       "    <tr>\n",
       "      <th>31</th>\n",
       "      <td>2016-09-30</td>\n",
       "      <td>2.298B</td>\n",
       "      <td>2298000000</td>\n",
       "    </tr>\n",
       "    <tr>\n",
       "      <th>32</th>\n",
       "      <td>2016-06-30</td>\n",
       "      <td>1.270B</td>\n",
       "      <td>1270000000</td>\n",
       "    </tr>\n",
       "    <tr>\n",
       "      <th>33</th>\n",
       "      <td>2016-03-31</td>\n",
       "      <td>1.147B</td>\n",
       "      <td>1147000000</td>\n",
       "    </tr>\n",
       "    <tr>\n",
       "      <th>34</th>\n",
       "      <td>2015-12-31</td>\n",
       "      <td>1.214B</td>\n",
       "      <td>1214000000</td>\n",
       "    </tr>\n",
       "    <tr>\n",
       "      <th>35</th>\n",
       "      <td>2015-09-30</td>\n",
       "      <td>936.79M</td>\n",
       "      <td>936790000</td>\n",
       "    </tr>\n",
       "  </tbody>\n",
       "</table>\n",
       "</div>"
      ],
      "text/plain": [
       "         date      rev    full_rev\n",
       "31 2016-09-30   2.298B  2298000000\n",
       "32 2016-06-30   1.270B  1270000000\n",
       "33 2016-03-31   1.147B  1147000000\n",
       "34 2015-12-31   1.214B  1214000000\n",
       "35 2015-09-30  936.79M   936790000"
      ]
     },
     "execution_count": 245,
     "metadata": {},
     "output_type": "execute_result"
    }
   ],
   "source": [
    "# Dropping the last few rows, as those are not related to the quarterly revenue. \n",
    "tesla_rev.drop(tesla_rev.tail(14).index, inplace=True)\n",
    "tesla_rev.tail()"
   ]
  },
  {
   "cell_type": "code",
   "execution_count": 243,
   "metadata": {},
   "outputs": [],
   "source": [
    "# Converting the date into datatime\n",
    "tesla_rev['date'] = pd.to_datetime(tesla_rev['date'])"
   ]
  },
  {
   "cell_type": "code",
   "execution_count": 227,
   "metadata": {},
   "outputs": [],
   "source": [
    "def converter(n):\n",
    "    if n[-1] == 'M':\n",
    "        return int(float(n[:-1]) * 1e6)\n",
    "    if n[-1] == 'B':\n",
    "        return int(float(n[:-1]) * 1e9)\n",
    "\n",
    "tesla_rev['full_rev'] = tesla_rev['rev'].apply(converter)\n",
    "tesla_rev.head()"
   ]
  },
  {
   "cell_type": "code",
   "execution_count": null,
   "metadata": {},
   "outputs": [],
   "source": []
  }
 ],
 "metadata": {
  "kernelspec": {
   "display_name": "Python 3 (ipykernel)",
   "language": "python",
   "name": "python3"
  },
  "language_info": {
   "codemirror_mode": {
    "name": "ipython",
    "version": 3
   },
   "file_extension": ".py",
   "mimetype": "text/x-python",
   "name": "python",
   "nbconvert_exporter": "python",
   "pygments_lexer": "ipython3",
   "version": "3.11.7"
  },
  "vscode": {
   "interpreter": {
    "hash": "110cc1dee26208153f2972f08a2ad52b6a56238dc66d48e87fb757ef2996db56"
   }
  }
 },
 "nbformat": 4,
 "nbformat_minor": 4
}
